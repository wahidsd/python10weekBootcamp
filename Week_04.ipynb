{
 "cells": [
  {
   "cell_type": "code",
   "execution_count": null,
   "metadata": {},
   "outputs": [
    {
     "name": "stdout",
     "output_type": "stream",
     "text": [
      "Guess a Letter!: l\n"
     ]
    }
   ],
   "source": [
    "#Imports\n",
    "\n",
    "from random import choice\n",
    "from IPython.display import clear_output\n",
    "\n",
    "#Declare game varibles\n",
    "words = [ \"tree\", \"basket\", \"chair\", \"paper\", \"python\" ]\n",
    "word = choice(words)\n",
    "guesses = []\n",
    "game_over = False\n",
    "lives = 7\n",
    "\n",
    "#Loop while game_over is false\n",
    "#Multiple wasy for game to be over \n",
    "#user quits or looses all lives or guesses all letters correctly\n",
    "\n",
    "while not game_over:\n",
    "    letter = input(\"Guess a Letter!: \")\n",
    "    if letter in word:\n",
    "        letter.append(guesses)\n",
    "        \n",
    "listed = []\n",
    "\"mine\".append(listed)"
   ]
  },
  {
   "cell_type": "code",
   "execution_count": 3,
   "metadata": {},
   "outputs": [
    {
     "name": "stdout",
     "output_type": "stream",
     "text": [
      "Hidden Word: _____\n",
      "Your guessed letters: []\n",
      "Lives: 7\n",
      "Guess a Letter!: a\n",
      "Correct!\n",
      "Hidden Word: __a__\n",
      "Your guessed letters: []\n",
      "Lives: 7\n",
      "Guess a Letter!: b\n",
      "Incorrect Answer!\n",
      "Hidden Word: __a__\n",
      "Your guessed letters: ['b']\n",
      "Lives: 6\n",
      "Guess a Letter!: c\n",
      "Correct!\n",
      "Hidden Word: c_a__\n",
      "Your guessed letters: ['b']\n",
      "Lives: 6\n",
      "Guess a Letter!: e\n",
      "Incorrect Answer!\n",
      "Hidden Word: c_a__\n",
      "Your guessed letters: ['b', 'e']\n",
      "Lives: 5\n",
      "Guess a Letter!: l\n",
      "Incorrect Answer!\n",
      "Hidden Word: c_a__\n",
      "Your guessed letters: ['b', 'e', 'l']\n",
      "Lives: 4\n",
      "Guess a Letter!: t\n",
      "Incorrect Answer!\n",
      "Hidden Word: c_a__\n",
      "Your guessed letters: ['b', 'e', 'l', 't']\n",
      "Lives: 3\n",
      "Guess a Letter!: r\n",
      "Correct!\n",
      "Hidden Word: c_a_r\n",
      "Your guessed letters: ['b', 'e', 'l', 't']\n",
      "Lives: 3\n",
      "Guess a Letter!: h\n",
      "Correct!\n",
      "Hidden Word: cha_r\n",
      "Your guessed letters: ['b', 'e', 'l', 't']\n",
      "Lives: 3\n",
      "Guess a Letter!: i\n",
      "Correct!\n",
      "Congratulations\n"
     ]
    }
   ],
   "source": [
    "#Imports\n",
    "\n",
    "from random import choice\n",
    "from IPython.display import clear_output\n",
    "\n",
    "#Declare game varibles\n",
    "words = [ \"tree\", \"basket\", \"chair\", \"paper\", \"python\" ]\n",
    "word = choice(words)\n",
    "guessed = []\n",
    "game_over = False\n",
    "lives = 7\n",
    "guesses = ['_']*len(word)\n",
    "\n",
    "#Loop while game_over is false\n",
    "#Multiple wasy for game to be over \n",
    "#user quits or looses all lives or guesses all letters correctly\n",
    "\n",
    "while not game_over:\n",
    "    hidden_word = ''.join(guesses)\n",
    "    print(f'Hidden Word: {hidden_word}')\n",
    "    print(f'Your guessed letters: {guessed}')\n",
    "    print(f'Lives: {lives}')\n",
    "    ans = input(\"Guess a Letter!: \").lower()\n",
    "    if ans == 'quit' :\n",
    "        print('Thank you for playing the game!')\n",
    "        game_over = True\n",
    "    elif ans in word:\n",
    "        print('Correct!')\n",
    "        for i in range(len(word)):\n",
    "            if word[i] == ans:\n",
    "                guesses[i] = ans\n",
    "        if word == ''.join(guesses):\n",
    "            print('Congratulations')\n",
    "            game_over = True\n",
    "    else:\n",
    "        lives -= 1\n",
    "        print(f'Incorrect Answer!')\n",
    "        if ans not in guessed:\n",
    "            guessed.append(ans)\n",
    "        if lives <= 0:\n",
    "            game_over = True\n",
    "        "
   ]
  },
  {
   "cell_type": "code",
   "execution_count": null,
   "metadata": {},
   "outputs": [],
   "source": []
  }
 ],
 "metadata": {
  "kernelspec": {
   "display_name": "Python 3",
   "language": "python",
   "name": "python3"
  },
  "language_info": {
   "codemirror_mode": {
    "name": "ipython",
    "version": 3
   },
   "file_extension": ".py",
   "mimetype": "text/x-python",
   "name": "python",
   "nbconvert_exporter": "python",
   "pygments_lexer": "ipython3",
   "version": "3.8.5"
  }
 },
 "nbformat": 4,
 "nbformat_minor": 4
}
