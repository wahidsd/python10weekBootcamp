{
 "cells": [
  {
   "cell_type": "code",
   "execution_count": 4,
   "metadata": {},
   "outputs": [
    {
     "name": "stdout",
     "output_type": "stream",
     "text": [
      "Congrats you guessed the number correctly\n",
      "It took you 7 turns\n"
     ]
    }
   ],
   "source": [
    "from random import randint\n",
    "from IPython.display import clear_output\n",
    "guessed = False\n",
    "number = randint(0, 100)\n",
    "guesses = 0\n",
    "\n",
    "while not guessed:\n",
    "    ans = int(input(\"Try to guess the number : \"))\n",
    "    guesses += 1\n",
    "    clear_output()\n",
    "    if ans == number:\n",
    "        print(\"Congrats you guessed the number correctly\")\n",
    "        print(\"It took you {} turns\".format(guesses))\n",
    "        break\n",
    "    elif ans < number:\n",
    "        print(\"The number is higher\")\n",
    "    else: print(\"The number is lower\")"
   ]
  },
  {
   "cell_type": "code",
   "execution_count": null,
   "metadata": {},
   "outputs": [],
   "source": []
  }
 ],
 "metadata": {
  "kernelspec": {
   "display_name": "Python 3",
   "language": "python",
   "name": "python3"
  },
  "language_info": {
   "codemirror_mode": {
    "name": "ipython",
    "version": 3
   },
   "file_extension": ".py",
   "mimetype": "text/x-python",
   "name": "python",
   "nbconvert_exporter": "python",
   "pygments_lexer": "ipython3",
   "version": "3.8.5"
  }
 },
 "nbformat": 4,
 "nbformat_minor": 4
}
